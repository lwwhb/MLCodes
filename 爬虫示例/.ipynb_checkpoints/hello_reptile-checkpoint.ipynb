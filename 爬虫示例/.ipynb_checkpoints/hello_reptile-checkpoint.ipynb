{
 "cells": [
  {
   "cell_type": "code",
   "execution_count": 30,
   "metadata": {},
   "outputs": [
    {
     "name": "stdout",
     "output_type": "stream",
     "text": [
      "False\n",
      "0 <class 'http.client.HTTPResponse'>\n",
      "1 200 200 OK\n",
      "2 GET\n",
      "3 Date: Tue, 02 Jun 2020 03:46:26 GMT\n",
      "Content-Type: text/html\n",
      "Content-Length: 538030\n",
      "Connection: close\n",
      "Server: nginx\n",
      "Last-Modified: Tue, 02 Jun 2020 03:45:04 GMT\n",
      "ETag: \"5ed5cb40-835ae\"\n",
      "WStag: Eastmoney\n",
      "Accept-Ranges: bytes\n",
      "X-Cache-Spec: Yes\n",
      "Age: 24\n",
      "X-Via: 1.1 PS-000-01j1O69:4 (Cdn Cache Server V2.0), 1.1 zhoudianxin23:10 (Cdn Cache Server V2.0)\n",
      "X-Ws-Request-Id: 5ed5cb92_dxin27_56189-14469\n",
      "\n",
      "\n",
      "4 https://www.eastmoney.com\n",
      "5 Mozilla/5.0 (Windows NT 5.1) AppleWebKit/537.36 (KHTML, like Gecko) Chrome/31.0.1650.16 Safari/537.36\n",
      "6 User-agent\n",
      "True\n"
     ]
    }
   ],
   "source": [
    "from urllib.request import urlopen,Request\n",
    "import random\n",
    "\n",
    "url = 'https://www.eastmoney.com'\n",
    "user_agent_list = ['Mozilla/5.0 (Windows NT 6.2) AppleWebKit/537.36 (KHTML, like Gecko) Chrome/28.0.1464.0 Safari/537.36',\n",
    "                       'Mozilla/5.0 (Windows NT 5.1) AppleWebKit/537.36 (KHTML, like Gecko) Chrome/31.0.1650.16 Safari/537.36',\n",
    "                       'Mozilla/5.0 (Windows NT 5.1) AppleWebKit/537.36 (KHTML, like Gecko) Chrome/35.0.3319.102 Safari/537.36',\n",
    "                       'Mozilla/5.0 (X11; CrOS i686 3912.101.0) AppleWebKit/537.36 (KHTML, like Gecko) Chrome/27.0.1453.116 Safari/537.36',\n",
    "                       'Mozilla/5.0 (Windows NT 6.2; WOW64) AppleWebKit/537.36 (KHTML, like Gecko) Chrome/27.0.1453.93 Safari/537.36',\n",
    "                       'Mozilla/5.0 (Windows NT 6.2; Win64; x64) AppleWebKit/537.36 (KHTML, like Gecko) Chrome/32.0.1667.0 Safari/537.36',\n",
    "                       'Mozilla/5.0 (X11; Ubuntu; Linux x86_64; rv:17.0) Gecko/20100101 Firefox/17.0.6',\n",
    "                       'Mozilla/5.0 (Windows NT 6.1) AppleWebKit/537.36 (KHTML, like Gecko) Chrome/28.0.1468.0 Safari/537.36',\n",
    "                       'Mozilla/5.0 (Windows NT 5.1) AppleWebKit/537.36 (KHTML, like Gecko) Chrome/41.0.2224.3 Safari/537.36',\n",
    "                       'Mozilla/5.0 (X11; CrOS i686 3912.101.0) AppleWebKit/537.36 (KHTML, like Gecko) Chrome/27.0.1453.116 Safari/537.36',\n",
    "                       'Mozilla/5.0 (Macintosh; Intel Mac OS X 10_15_4) AppleWebKit/537.36 (KHTML, like Gecko) Chrome/83.0.4103.61 Safari/537.36']\n",
    "# 随机伪装user-agent\n",
    "ua=random.choice(user_agent_list)\n",
    "  \n",
    "#request = Request(url, headers={\n",
    "#    'User-agent':ua\n",
    "#})\n",
    "#或用下面方法添加User-agent\n",
    "request.add_header('User-agent', ua)\n",
    "\n",
    "#response = urlopen(url)\n",
    "response = urlopen(request)\n",
    "print(response.closed)\n",
    "\n",
    "with response:\n",
    "    print(0,type(response))\n",
    "    print(1,response.status, response.getcode(), response.reason)\n",
    "    print(2,response._method)\n",
    "    print(3,response.info())\n",
    "   # print(response.read())\n",
    "    print(4,response.geturl())\n",
    "    print(5,request.get_header('User-agent'))\n",
    "    print(6,'User-agent'.capitalize())\n",
    "print(response.closed)"
   ]
  },
  {
   "cell_type": "markdown",
   "metadata": {},
   "source": [
    "#### 3.2 urllib中parse模块\n",
    "    此模块用于对url进行编解码\n",
    "   ##### Https访问问题\n",
    "   加载SSL模块  通过context = ssl._create_unverified_context()  response = urlopen(request, context = context) #忽略校验证书"
   ]
  },
  {
   "cell_type": "code",
   "execution_count": 35,
   "metadata": {},
   "outputs": [
    {
     "name": "stdout",
     "output_type": "stream",
     "text": [
      "https://www.baidu.com/s?wd=%E7%88%AC%E8%99%AB\n",
      "b'\\xe7\\x88\\xac\\xe8\\x99\\xab'\n",
      "wd=爬虫\n",
      "https://www.baidu.com/s?wd=爬虫\n"
     ]
    }
   ],
   "source": [
    "from urllib import parse\n",
    "#编码\n",
    "u = parse.urlencode({'wd':\"爬虫\"})\n",
    "url = \"https://www.baidu.com/s?{}\".format(u)\n",
    "print(url)\n",
    "\n",
    "print('爬虫'.encode('utf-8'))\n",
    "print(parse.unquote(u))\n",
    "print(parse.unquote(url))"
   ]
  },
  {
   "cell_type": "markdown",
   "metadata": {},
   "source": [
    "### 4. urllib3包\n",
    "    标准库urllib包缺少一些关键性功能，非标准库urllib3包提供了这些功能，如连接池管理等 通过pip install urllib3安装"
   ]
  },
  {
   "cell_type": "code",
   "execution_count": 44,
   "metadata": {},
   "outputs": [
    {
     "name": "stderr",
     "output_type": "stream",
     "text": [
      "/home/Irenicus/anaconda3/lib/python3.7/site-packages/urllib3/connectionpool.py:857: InsecureRequestWarning: Unverified HTTPS request is being made. Adding certificate verification is strongly advised. See: https://urllib3.readthedocs.io/en/latest/advanced-usage.html#ssl-warnings\n",
      "  InsecureRequestWarning)\n"
     ]
    },
    {
     "name": "stdout",
     "output_type": "stream",
     "text": [
      "0 <class 'urllib3.response.HTTPResponse'>\n",
      "1 200 OK\n",
      "2 HTTPHeaderDict({'Date': 'Tue, 02 Jun 2020 10:53:34 GMT', 'Content-Type': 'text/html; charset=utf-8', 'Transfer-Encoding': 'chunked', 'Connection': 'keep-alive', 'Keep-Alive': 'timeout=60', 'Vary': 'Accept-Encoding, Accept-Encoding', 'X-Xss-Protection': '1; mode=block', 'X-Douban-Mobileapp': '0', 'Expires': 'Sun, 1 Jan 2006 01:00:00 GMT', 'Pragma': 'no-cache', 'Cache-Control': 'must-revalidate, no-cache, private', 'Set-Cookie': 'll=\"118282\"; path=/; domain=.douban.com; expires=Wed, 02-Jun-2021 10:53:34 GMT, bid=rLu073rp58A; Expires=Wed, 02-Jun-21 10:53:34 GMT; Domain=.douban.com; Path=/', 'X-DOUBAN-NEWBID': 'rLu073rp58A', 'X-DAE-App': 'movie', 'X-DAE-Instance': 'default', 'Server': 'dae', 'X-Content-Type-Options': 'nosniff'})\n"
     ]
    }
   ],
   "source": [
    "import urllib3\n",
    "\n",
    "url = 'https://movie.douban.com'\n",
    "ua = 'Mozilla/5.0 (Macintosh; Intel Mac OS X 10_15_4) AppleWebKit/537.36 (KHTML, like Gecko) Chrome/83.0.4103.61 Safari/537.36'\n",
    "\n",
    "with urllib3.PoolManager() as http:\n",
    "    response = http.request('GET',url,headers={\n",
    "        'User-agent':ua\n",
    "    })\n",
    "    print(0, type(response))\n",
    "    print(1,response.status, response.reason)\n",
    "    print(2,response.headers)\n",
    "    #print(3,response.data)"
   ]
  },
  {
   "cell_type": "markdown",
   "metadata": {},
   "source": [
    "### 5. requests库\n",
    "    使用了urllib3库，API更加友好"
   ]
  },
  {
   "cell_type": "code",
   "execution_count": 53,
   "metadata": {},
   "outputs": [
    {
     "name": "stdout",
     "output_type": "stream",
     "text": [
      "{\"subjects\":[{\"rate\":\"6.9\",\"cover_x\":1280,\"title\":\"大饿\",\"url\":\"https:\\/\\/movie.douban.com\\/subject\\/30306756\\/\",\"playable\":true,\"cover\":\"https://img3.doubanio.com\\/view\\/photo\\/s_ratio_poster\\/public\\/p2572235972.jpg\",\"id\":\"30306756\",\"cover_y\":1895,\"is_new\":true},{\"rate\":\"8.5\",\"cover_x\":1944,\"title\":\"黑水\",\"url\":\"https:\\/\\/movie.douban.com\\/subject\\/30331959\\/\",\"playable\":false,\"cover\":\"https://img3.doubanio.com\\/view\\/photo\\/s_ratio_poster\\/public\\/p2569450232.jpg\",\"id\":\"30331959\",\"cover_y\":2880,\"is_new\":false},{\"rate\":\"8.7\",\"cover_x\":600,\"title\":\"给我翅膀\",\"url\":\"https:\\/\\/movie.douban.com\\/subject\\/30410114\\/\",\"playable\":false,\"cover\":\"https://img3.doubanio.com\\/view\\/photo\\/s_ratio_poster\\/public\\/p2561160802.jpg\",\"id\":\"30410114\",\"cover_y\":800,\"is_new\":false},{\"rate\":\"8.8\",\"cover_x\":1017,\"title\":\"多哥\",\"url\":\"https:\\/\\/movie.douban.com\\/subject\\/30271841\\/\",\"playable\":false,\"cover\":\"https://img9.doubanio.com\\/view\\/photo\\/s_ratio_poster\\/public\\/p2575882765.jpg\",\"id\":\"30271841\",\"cover_y\":1500,\"is_new\":false},{\"rate\":\"7.5\",\"cover_x\":1385,\"title\":\"纽约的一个雨天\",\"url\":\"https:\\/\\/movie.douban.com\\/subject\\/27089612\\/\",\"playable\":false,\"cover\":\"https://img3.doubanio.com\\/view\\/photo\\/s_ratio_poster\\/public\\/p2556824333.jpg\",\"id\":\"27089612\",\"cover_y\":2048,\"is_new\":false},{\"rate\":\"6.5\",\"cover_x\":1539,\"title\":\"血液机器\",\"url\":\"https:\\/\\/movie.douban.com\\/subject\\/34825471\\/\",\"playable\":false,\"cover\":\"https://img9.doubanio.com\\/view\\/photo\\/s_ratio_poster\\/public\\/p2597240465.jpg\",\"id\":\"34825471\",\"cover_y\":2048,\"is_new\":true},{\"rate\":\"6.8\",\"cover_x\":1080,\"title\":\"双鱼陨石\",\"url\":\"https:\\/\\/movie.douban.com\\/subject\\/35055448\\/\",\"playable\":true,\"cover\":\"https://img1.doubanio.com\\/view\\/photo\\/s_ratio_poster\\/public\\/p2601376569.jpg\",\"id\":\"35055448\",\"cover_y\":1920,\"is_new\":false},{\"rate\":\"8.3\",\"cover_x\":5906,\"title\":\"少年的你\",\"url\":\"https:\\/\\/movie.douban.com\\/subject\\/30166972\\/\",\"playable\":true,\"cover\":\"https://img3.doubanio.com\\/view\\/photo\\/s_ratio_poster\\/public\\/p2572166063.jpg\",\"id\":\"30166972\",\"cover_y\":8268,\"is_new\":false},{\"rate\":\"8.2\",\"cover_x\":4000,\"title\":\"理查德·朱维尔的哀歌\",\"url\":\"https:\\/\\/movie.douban.com\\/subject\\/25842038\\/\",\"playable\":true,\"cover\":\"https://img9.doubanio.com\\/view\\/photo\\/s_ratio_poster\\/public\\/p2578705064.jpg\",\"id\":\"25842038\",\"cover_y\":5926,\"is_new\":false},{\"rate\":\"7.1\",\"cover_x\":1500,\"title\":\"惊天营救\",\"url\":\"https:\\/\\/movie.douban.com\\/subject\\/30314127\\/\",\"playable\":false,\"cover\":\"https://img3.doubanio.com\\/view\\/photo\\/s_ratio_poster\\/public\\/p2593425210.jpg\",\"id\":\"30314127\",\"cover_y\":2222,\"is_new\":false}]}\n",
      "200\n",
      "https://movie.douban.com/j/search_subjects?type=movie&tag=%E7%83%AD%E9%97%A8&page_limit=10&page_start=10\n",
      "{'Date': 'Tue, 02 Jun 2020 11:15:52 GMT', 'Content-Type': 'application/json; charset=utf-8', 'Transfer-Encoding': 'chunked', 'Connection': 'keep-alive', 'Keep-Alive': 'timeout=60', 'Vary': 'Accept-Encoding, Accept-Encoding', 'X-Xss-Protection': '1; mode=block', 'X-Douban-Mobileapp': '0', 'Expires': 'Sun, 1 Jan 2006 01:00:00 GMT', 'Pragma': 'no-cache', 'Cache-Control': 'must-revalidate, no-cache, private', 'Set-Cookie': 'bid=jFxUdrFRTCY; Expires=Wed, 02-Jun-21 11:15:52 GMT; Domain=.douban.com; Path=/', 'X-DOUBAN-NEWBID': 'jFxUdrFRTCY', 'X-DAE-App': 'movie', 'X-DAE-Instance': 'default', 'Server': 'dae', 'X-Content-Type-Options': 'nosniff', 'Content-Encoding': 'gzip'} ~~~~\n",
      "{'User-agent': 'Mozilla/5.0 (Macintosh; Intel Mac OS X 10_15_4) AppleWebKit/537.36 (KHTML, like Gecko) Chrome/83.0.4103.61 Safari/537.36', 'Accept-Encoding': 'gzip, deflate', 'Accept': '*/*', 'Connection': 'keep-alive'}\n"
     ]
    }
   ],
   "source": [
    "import requests\n",
    "from urllib import parse\n",
    "jurl = 'https://movie.douban.com/j/search_subjects'\n",
    "d = {\n",
    "    'type':'movie',\n",
    "    'tag':'热门',\n",
    "    'page_limit':10,\n",
    "    'page_start':10\n",
    "}\n",
    "url = '{}?{}'.format(jurl, parse.urlencode(d))\n",
    "ua = 'Mozilla/5.0 (Macintosh; Intel Mac OS X 10_15_4) AppleWebKit/537.36 (KHTML, like Gecko) Chrome/83.0.4103.61 Safari/537.36'\n",
    "\n",
    "response = requests.request('GET',url,headers={\n",
    "        'User-agent':ua\n",
    "    })\n",
    "with response as resp:\n",
    "    print(resp.text)\n",
    "    print(resp.status_code)\n",
    "    print(resp.url)\n",
    "    print(resp.headers,\"~~~~\")\n",
    "    print(resp.request.headers)"
   ]
  },
  {
   "cell_type": "code",
   "execution_count": 63,
   "metadata": {},
   "outputs": [
    {
     "name": "stdout",
     "output_type": "stream",
     "text": [
      "<!DOCTYPE html>\n",
      "<html lang=\"zh-CN\">\n",
      "<head>\n",
      "    <me\n",
      "200\n",
      "https://wappass.baidu.com/static/captcha/tuxing.html?&ak=c27bbc89afca0463650ac9bde68ebe06&backurl=https%3A%2F%2Fwww.baidu.com%2Fs%3Fwd%3Dmagedu&logid=10441458891265212161&signature=e12c636bfe78d1dd9abc1ed54fe75ae7&timestamp=1591114863\n",
      "------------------------------\n",
      "<RequestsCookieJar[<Cookie BAIDUID=87E8B64CB35013EC4F8E39165576DDE8:FG=1 for .baidu.com/>]>\n",
      "------------------------------\n",
      "{'Access-Control-Allow-Credentials': 'true', 'Access-Control-Allow-Methods': 'GET, POST, OPTIONS', 'Access-Control-Allow-Origin': 'http://wappass.baidu.com', 'Connection': 'keep-alive', 'Content-Encoding': 'gzip', 'Content-Type': 'text/html', 'Date': 'Tue, 02 Jun 2020 16:21:03 GMT', 'Etag': 'W/\"5e980feb-5ef\"', 'Last-Modified': 'Thu, 16 Apr 2020 07:57:31 GMT', 'P3p': 'CP=\" OTI DSP COR IVA OUR IND COM \"', 'Server': 'Apache', 'Set-Cookie': 'BAIDUID=87E8B64CB35013EC4F8E39165576DDE8:FG=1; expires=Wed, 02-Jun-21 16:21:03 GMT; max-age=31536000; path=/; domain=.baidu.com; version=1', 'Strict-Transport-Security': 'max-age=31536000', 'Tracecode': '12633384000856739594060300, 12633384000908119818060300', 'Vary': 'Accept-Encoding', 'Transfer-Encoding': 'chunked'} ~~~~\n",
      "{'User-agent': 'Mozilla/5.0 (Macintosh; Intel Mac OS X 10_15_4) AppleWebKit/537.36 (KHTML, like Gecko) Chrome/83.0.4103.61 Safari/537.36', 'Accept-Encoding': 'gzip, deflate', 'Accept': '*/*', 'Connection': 'keep-alive'}\n",
      "<!DOCTYPE html>\n",
      "<html lang=\"zh-CN\">\n",
      "<head>\n",
      "    <me\n",
      "200\n",
      "https://wappass.baidu.com/static/captcha/tuxing.html?&ak=c27bbc89afca0463650ac9bde68ebe06&backurl=https%3A%2F%2Fwww.baidu.com%2Fs%3Fwd%3Dmagedu&logid=11381830736652569356&signature=e12c636bfe78d1dd9abc1ed54fe75ae7&timestamp=1591114863\n",
      "------------------------------\n",
      "<RequestsCookieJar[]>\n",
      "------------------------------\n",
      "{'Access-Control-Allow-Credentials': 'true', 'Access-Control-Allow-Methods': 'GET, POST, OPTIONS', 'Access-Control-Allow-Origin': 'http://wappass.baidu.com', 'Connection': 'keep-alive', 'Content-Encoding': 'gzip', 'Content-Type': 'text/html', 'Date': 'Tue, 02 Jun 2020 16:21:03 GMT', 'Etag': 'W/\"5e980feb-5ef\"', 'Last-Modified': 'Thu, 16 Apr 2020 07:57:31 GMT', 'Server': 'Apache', 'Strict-Transport-Security': 'max-age=31536000', 'Tracecode': '12634219960317506314060300, 12634219960908054282060300', 'Vary': 'Accept-Encoding', 'Transfer-Encoding': 'chunked'} ~~~~\n",
      "{'User-agent': 'Mozilla/5.0 (Macintosh; Intel Mac OS X 10_15_4) AppleWebKit/537.36 (KHTML, like Gecko) Chrome/83.0.4103.61 Safari/537.36', 'Accept-Encoding': 'gzip, deflate', 'Accept': '*/*', 'Connection': 'keep-alive', 'Cookie': 'BAIDUID=87E8B64CB35013EC4F8E39165576DDE8:FG=1'}\n"
     ]
    }
   ],
   "source": [
    "import requests\n",
    "\n",
    "urls = ['https://www.baidu.com/s?wd=magedu','https://www.baidu.com/s?wd=magedu']\n",
    "ua = 'Mozilla/5.0 (Macintosh; Intel Mac OS X 10_15_4) AppleWebKit/537.36 (KHTML, like Gecko) Chrome/83.0.4103.61 Safari/537.36'\n",
    "\n",
    "session = requests.Session()\n",
    "with session:\n",
    "    for url in urls :\n",
    "        response = session.get(url,headers={\n",
    "            'User-agent':ua\n",
    "        })\n",
    "        with response as resp:\n",
    "            print(resp.text[:50])\n",
    "            print(resp.status_code)\n",
    "            print(resp.url)\n",
    "            print('-'*30)\n",
    "            print(resp.cookies)\n",
    "            print('-'*30)\n",
    "            print(resp.headers,\"~~~~\")\n",
    "            print(resp.request.headers)\n",
    "        "
   ]
  }
 ],
 "metadata": {
  "kernelspec": {
   "display_name": "Python 3",
   "language": "python",
   "name": "python3"
  },
  "language_info": {
   "codemirror_mode": {
    "name": "ipython",
    "version": 3
   },
   "file_extension": ".py",
   "mimetype": "text/x-python",
   "name": "python",
   "nbconvert_exporter": "python",
   "pygments_lexer": "ipython3",
   "version": "3.7.0"
  }
 },
 "nbformat": 4,
 "nbformat_minor": 2
}

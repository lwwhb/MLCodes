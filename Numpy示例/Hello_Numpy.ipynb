{
 "cells": [
  {
   "cell_type": "markdown",
   "metadata": {},
   "source": [
    "### 1. Numpy简介\n",
    "    Numpy是一个开源的python科学库，用于快速处理任意纬度数组。支持常见的数组和矩阵操作，对于同样的数值计算任务比直接使用Python要简洁。\n",
    "### 2. ndarray\n",
    "  * 属性\n",
    "        ndarray.shape      数组维度元组\n",
    "        ndarray.ndim       数组维度\n",
    "        ndarray.size       数组中元素数量\n",
    "        ndarray.itemsize   一个数组元素长度（字节）\n",
    "        ndarray.dtype      数组元素类型\n",
    "  * 基本操作\n",
    "        生成方法：\n",
    "            生成0，1数组        np.zeros(形状),  np.ones(形状)\n",
    "            从现有数组中生成     np.array(),  np.copy(), np.asarray()\n",
    "            生成固定范围的数组   np.linspace(), np.arange()\n",
    "            随机生成数组        np.random.rand(d0,d1....dn), np.random.uniform(low=0.0, high=1.0, size=None),np.random.randint(low, high=None, size=None, dtype='I'), np.random.normal(loc, scale, size)\n",
    "        形状修改：\n",
    "            ndarray.reshape   返回新的ndarray, 只改变形状，原始数据没有改变\n",
    "            ndarray.resize    没有返回值，只对原ndarray进行修改\n",
    "            ndarray.T         数组的转置，行列互换\n",
    "        类型修改：\n",
    "            ndarray.astype(type)\n",
    "            ndarray.tostring()\n",
    "        数组去重\n",
    "            ndarray.unique\n",
    "  * 运算\n",
    "        逻辑运算：\n",
    "               布尔索引, \n",
    "               通用判断函数: \n",
    "                   np.all(布尔索引)，只要有一个false，就返回false，只有全是true，才返回true\n",
    "                   np.any(布尔索引)，只要有一个true，就返回true，只有全是false，才返回false\n",
    "                   np.where()，三元运算符，结合逻辑运算符np.logical_and(条件1,条件2)  np.logical_or(条件1,条件2)\n",
    "        统计运算\n",
    "            统计指标函数：np.min(),np.max(),np.mean(),np.median(),np.var(),np.std()或ndarray.方法名\n",
    "            返回最大值、最小值所在位置：np.angmax(),np.angmin()\n",
    "        数组间运算\n",
    "            广播机制：只有满足两个数组维度相等，shape(其中相对应的一个地方是1)才能进行数组与数据的运算。\n",
    "        矩阵运算\n",
    "            二维数组转换为矩阵 np.mat()\n",
    "            矩阵乘法 ndarray的话np.matmul(), np.dot()或@符号，matrix的话直接运算符*\n",
    "        数组的分割与合并\n",
    "            合并：np.hstack(tup), np.vstack(tup), np.concatenate((a1,a2,...),axis=0)\n",
    "            分割：np.split(array, indices_or_sections, axis=0)\n",
    "### 3. IO操作与数据处理\n",
    "   * Numpy读取: np.getfromtxt(filename[,dtype,comments,...])\n",
    "        缺失值处理：删除/差补/替换 用pandas处理更简单"
   ]
  },
  {
   "cell_type": "code",
   "execution_count": 66,
   "metadata": {},
   "outputs": [
    {
     "data": {
      "image/png": "[encoded data removed]",
      "text/plain": [
       "<Figure size 576x288 with 1 Axes>"
      ]
     },
     "metadata": {
      "needs_background": "light"
     },
     "output_type": "display_data"
    },
    {
     "data": {
      "image/png": "[encoded data removed]",
      "text/plain": [
       "<Figure size 576x288 with 1 Axes>"
      ]
     },
     "metadata": {
      "needs_background": "light"
     },
     "output_type": "display_data"
    }
   ],
   "source": [
    "import numpy as np\n",
    "import matplotlib.pyplot as plt\n",
    "\n",
    "a = np.array([[1,2,3,],[4,5,6]],dtype=np.int32)\n",
    "b = np.zeros(shape=(3,4))\n",
    "c = np.ones([5,3])\n",
    "\n",
    "# 深拷贝\n",
    "a1 = np.array(a)\n",
    "a2 = np.copy(a)\n",
    "# 浅拷贝，只是索引\n",
    "a3 = np.asarray(a)\n",
    "\n",
    "# 生成固定范围\n",
    "# 等距5生成\n",
    "d = np.linspace(0,10,5)\n",
    "# 生成左开右闭区间\n",
    "e = np.arange(0,11,5)\n",
    "\n",
    "# 随机生成，指定分布状况\n",
    "# 均匀分布\n",
    "f = np.random.uniform(low=-1.0, high=1.0, size=1000)\n",
    "# 均匀整数分布\n",
    "g = np.random.randint(low =0, high=100, size=100, dtype='I')\n",
    "# 正态分布\n",
    "h = np.random.normal(loc = 1.75, scale = 0.1, size = 10000)\n",
    "\n",
    "plt.figure(figsize = (6, 3), dpi = 96)\n",
    "plt.hist(g,100)\n",
    "plt.show()\n",
    "\n",
    "plt.figure(figsize = (6, 3), dpi = 96)\n",
    "plt.hist(h,100)\n",
    "plt.show()"
   ]
  }
 ],
 "metadata": {
  "kernelspec": {
   "display_name": "Python 3",
   "language": "python",
   "name": "python3"
  },
  "language_info": {
   "codemirror_mode": {
    "name": "ipython",
    "version": 3
   },
   "file_extension": ".py",
   "mimetype": "text/x-python",
   "name": "python",
   "nbconvert_exporter": "python",
   "pygments_lexer": "ipython3",
   "version": "3.7.7"
  }
 },
 "nbformat": 4,
 "nbformat_minor": 2
}

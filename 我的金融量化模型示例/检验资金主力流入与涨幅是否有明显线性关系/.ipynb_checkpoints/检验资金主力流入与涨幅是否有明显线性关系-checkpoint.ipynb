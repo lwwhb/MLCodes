{
 "cells": [
  {
   "cell_type": "markdown",
   "metadata": {},
   "source": [
    "### 根据资金流向排行前200名，从Tushare提取200个每日个股指标数据，并合并导出成excel"
   ]
  },
  {
   "cell_type": "code",
   "execution_count": 30,
   "metadata": {},
   "outputs": [
    {
     "name": "stdout",
     "output_type": "stream",
     "text": [
      " 当前数据提取进度：▉▉▉▉▉▉▉▉▉▉100% Tushare数据提取完毕\n",
      "      排名      代码      名称     最新价  今日涨跌幅(%)  今日主力净流入-净额(万元)  今日主力净流入-净占比(%)  \\\n",
      "0      1  002223    鱼跃医疗   36.09      6.71        20800.00           10.33   \n",
      "1      2  300496    中科创达   76.03     10.00        20600.00           14.03   \n",
      "2      3  601888    中国中免  140.03     10.00        16400.00            7.32   \n",
      "3      4  600598     北大荒   15.86      8.63        13400.00           11.41   \n",
      "4      5  002317    众生药业   15.60     10.01        13400.00           17.57   \n",
      "..   ...     ...     ...     ...       ...             ...             ...   \n",
      "195  196  000630    铜陵有色    1.95      2.09         1463.55           10.54   \n",
      "196  197  002920    德赛西威   55.75      0.98         1453.60            5.68   \n",
      "197  198  688266  泽璟制药-U   82.88      4.40         1436.20            7.08   \n",
      "198  199  300538    同益股份   27.84      2.24         1425.29            9.64   \n",
      "199  200  300253    卫宁健康   20.85      1.86         1421.94            1.50   \n",
      "\n",
      "     换手率(%)  换手率(自由流通股)    量比  ...      市净率      市销率      市销率TTM  股息率(%)  \\\n",
      "0    6.5837      9.9140  None  ...   5.9773   7.8041      7.4972  0.4156   \n",
      "1    6.9375      7.7924  None  ...  16.3727  16.7518     15.8230    None   \n",
      "2    0.8647      1.8516  None  ...  13.7722   5.6999      6.5234  0.3928   \n",
      "3    4.2367     11.8156  None  ...   4.4401   9.0618      8.9281  2.5221   \n",
      "4    6.9662      8.3187  None  ...   3.2106    5.019      5.5077  1.2646   \n",
      "..      ...         ...   ...  ...      ...      ...         ...     ...   \n",
      "195  0.6813      1.0736  None  ...   1.1349   0.2208      0.2280  1.5385   \n",
      "196  3.7144      3.7144  None  ...   7.3704    5.745      5.5960  0.3587   \n",
      "197  4.5279      4.5279  None  ...  10.7013     None  15170.7109    None   \n",
      "198  6.9260     11.4116  None  ...   9.4052   2.3613      2.0947    None   \n",
      "199  2.6594      2.9851  None  ...  11.8729  23.3176     22.9448    None   \n",
      "\n",
      "     股息率TTM(%)       总股本(万股)      流通股本(万股)   自由流通股本(万股)       总市值(万元)  \\\n",
      "0       1.1083  1.002477e+05  8.668556e+04   57566.5102  3.617939e+06   \n",
      "1         None  4.025151e+04  2.831913e+04   25212.2356  3.060322e+06   \n",
      "2         None  1.952476e+05  1.952476e+05   91183.2854  2.734052e+07   \n",
      "3        2.396  1.777680e+05  1.777680e+05   63741.7788  2.819400e+06   \n",
      "4       1.2646  8.144611e+04  7.122404e+04   59643.9780  1.270559e+06   \n",
      "..         ...           ...           ...          ...           ...   \n",
      "195     0.5128  1.052653e+06  1.052644e+06  668068.8912  2.052674e+06   \n",
      "196     0.3587  5.500000e+04  1.223500e+04   12235.0000  3.066250e+06   \n",
      "197       None  2.400000e+04  5.480791e+03    5480.7914  1.989120e+06   \n",
      "198       None  1.515988e+04  7.745567e+03    4701.0271  4.220511e+05   \n",
      "199       None  2.133822e+05  1.726596e+05  153820.1068  4.449018e+06   \n",
      "\n",
      "         流通市值(万元)  \n",
      "0    3.128482e+06  \n",
      "1    2.153103e+06  \n",
      "2    2.734052e+07  \n",
      "3    2.819400e+06  \n",
      "4    1.111095e+06  \n",
      "..            ...  \n",
      "195  2.052655e+06  \n",
      "196  6.821012e+05  \n",
      "197  4.542480e+05  \n",
      "198  2.156366e+05  \n",
      "199  3.599953e+06  \n",
      "\n",
      "[200 rows x 22 columns]\n",
      "导出到output/20200624.xlsx，成功！！\n"
     ]
    }
   ],
   "source": [
    "#token : 50897e472b76080caf1a0153f282761bde5f99a09280593344002a96\n",
    "import tushare as ts\n",
    "import pandas as pd\n",
    "import time\n",
    "    \n",
    "# 通过股票代码获取ts_code\n",
    "def get_tscode( stock_code ):\n",
    "    if stock_code[0]=='6':\n",
    "        ts_code='%s.SH,' %stock_code\n",
    "    else:\n",
    "        ts_code='%s.SZ,' %stock_code\n",
    "    return ts_code\n",
    "\n",
    "#初始化tushare的token\n",
    "pro = ts.pro_api('50897e472b76080caf1a0153f282761bde5f99a09280593344002a96')\n",
    "\n",
    "# 读取后裔采集器下采集的沪深两市实时资金流向排行.xlsx\n",
    "df_xlsx = pd.read_excel(\"data/20200629.xlsx\", converters = {'代码':str })\n",
    "# 从dataframe中取出排名、代码两列\n",
    "sr_code = df_xlsx['代码']\n",
    "\n",
    "check_date = '20200629'\n",
    "i = 0\n",
    "progress = 0\n",
    "# 根据资金流向排行前200名，从Tushare提取200个每日个股指标数据，注意，由于Tushare限制每分钟接口访问次数为200次，所以每分钟只能执行一次此循环，\n",
    "df_daily_base = pro.daily_basic(ts_code=get_tscode(sr_code[i]), trade_date=check_date, fields='ts_code,turnover_rate,turnover_rate_f,volume_ratio,pe,pe_ttm,pb,ps,ps_ttm,dv_ratio,dv_ttm,total_share,float_share,free_share,total_mv,circ_mv')\n",
    "while i <= sr_code.index.max()-1:\n",
    "    i+=1\n",
    "    df_temp = pro.daily_basic(ts_code=get_tscode(sr_code[i]), trade_date=check_date, fields='ts_code,turnover_rate,turnover_rate_f,volume_ratio,pe,pe_ttm,pb,ps,ps_ttm,dv_ratio,dv_ttm,total_share,float_share,free_share,total_mv,circ_mv')\n",
    "    df_daily_base = pd.concat([df_daily_base,df_temp],axis=0)\n",
    "    # 打印进度\n",
    "    progress = int((i+1)/20)\n",
    "    print('\\r 当前数据提取进度：{0}{1}%'.format('▉'*progress,(progress*10)), end='')\n",
    "print(' Tushare数据提取完毕')\n",
    "\n",
    "df_daily_base = df_daily_base.drop(['ts_code'], axis=1)\n",
    "# 修改列名\n",
    "df_daily_base.rename(columns={'turnover_rate':'换手率(%)', 'turnover_rate_f':'换手率(自由流通股)', 'volume_ratio':'量比', 'pe':'市盈率', 'pe_ttm':'市盈率TTM', 'pb':'市净率', 'ps':'市销率', 'ps_ttm':'市销率TTM', 'dv_ratio':'股息率(%)', 'dv_ttm':'股息率TTM(%)', 'total_share':'总股本(万股)', 'float_share':'流通股本(万股)', 'free_share':'自由流通股本(万股)', 'total_mv':'总市值(万元)', 'circ_mv':'流通市值(万元)'}, inplace = True)\n",
    "\n",
    "df_daily_base.reset_index(drop=True, inplace=True)\n",
    "df_tushare = pd.concat([df_xlsx,df_daily_base], axis=1)\n",
    "print(df_tushare)\n",
    "df_tushare.to_excel(\"output/20200629.xlsx\")\n",
    "print(\"导出到output/20200629.xlsx，成功！！\")"
   ]
  },
  {
   "cell_type": "markdown",
   "metadata": {},
   "source": [
    "### 绘制相关性图像"
   ]
  },
  {
   "cell_type": "code",
   "execution_count": 34,
   "metadata": {},
   "outputs": [
    {
     "data": {
      "text/html": [
       "<div>\n",
       "<style scoped>\n",
       "    .dataframe tbody tr th:only-of-type {\n",
       "        vertical-align: middle;\n",
       "    }\n",
       "\n",
       "    .dataframe tbody tr th {\n",
       "        vertical-align: top;\n",
       "    }\n",
       "\n",
       "    .dataframe thead th {\n",
       "        text-align: right;\n",
       "    }\n",
       "</style>\n",
       "<table border=\"1\" class=\"dataframe\">\n",
       "  <thead>\n",
       "    <tr style=\"text-align: right;\">\n",
       "      <th></th>\n",
       "      <th>名称</th>\n",
       "      <th>主力流入占流通市值比(%)</th>\n",
       "      <th>今日涨跌幅(%)</th>\n",
       "    </tr>\n",
       "  </thead>\n",
       "  <tbody>\n",
       "    <tr>\n",
       "      <th>32</th>\n",
       "      <td>聚合顺</td>\n",
       "      <td>0.052377</td>\n",
       "      <td>10.02</td>\n",
       "    </tr>\n",
       "    <tr>\n",
       "      <th>27</th>\n",
       "      <td>雪榕生物</td>\n",
       "      <td>0.023163</td>\n",
       "      <td>10.05</td>\n",
       "    </tr>\n",
       "    <tr>\n",
       "      <th>48</th>\n",
       "      <td>京北方</td>\n",
       "      <td>0.022943</td>\n",
       "      <td>5.68</td>\n",
       "    </tr>\n",
       "    <tr>\n",
       "      <th>95</th>\n",
       "      <td>路畅科技</td>\n",
       "      <td>0.022347</td>\n",
       "      <td>10.02</td>\n",
       "    </tr>\n",
       "    <tr>\n",
       "      <th>53</th>\n",
       "      <td>北玻股份</td>\n",
       "      <td>0.021441</td>\n",
       "      <td>10.00</td>\n",
       "    </tr>\n",
       "    <tr>\n",
       "      <th>...</th>\n",
       "      <td>...</td>\n",
       "      <td>...</td>\n",
       "      <td>...</td>\n",
       "    </tr>\n",
       "    <tr>\n",
       "      <th>156</th>\n",
       "      <td>青岛啤酒</td>\n",
       "      <td>0.000380</td>\n",
       "      <td>-0.36</td>\n",
       "    </tr>\n",
       "    <tr>\n",
       "      <th>150</th>\n",
       "      <td>中环股份</td>\n",
       "      <td>0.000351</td>\n",
       "      <td>1.63</td>\n",
       "    </tr>\n",
       "    <tr>\n",
       "      <th>190</th>\n",
       "      <td>苏 泊 尔</td>\n",
       "      <td>0.000349</td>\n",
       "      <td>1.41</td>\n",
       "    </tr>\n",
       "    <tr>\n",
       "      <th>61</th>\n",
       "      <td>牧原股份</td>\n",
       "      <td>0.000222</td>\n",
       "      <td>3.72</td>\n",
       "    </tr>\n",
       "    <tr>\n",
       "      <th>25</th>\n",
       "      <td>美的集团</td>\n",
       "      <td>0.000199</td>\n",
       "      <td>0.42</td>\n",
       "    </tr>\n",
       "  </tbody>\n",
       "</table>\n",
       "<p>200 rows × 3 columns</p>\n",
       "</div>"
      ],
      "text/plain": [
       "        名称  主力流入占流通市值比(%)  今日涨跌幅(%)\n",
       "32     聚合顺       0.052377     10.02\n",
       "27    雪榕生物       0.023163     10.05\n",
       "48     京北方       0.022943      5.68\n",
       "95    路畅科技       0.022347     10.02\n",
       "53    北玻股份       0.021441     10.00\n",
       "..     ...            ...       ...\n",
       "156   青岛啤酒       0.000380     -0.36\n",
       "150   中环股份       0.000351      1.63\n",
       "190  苏 泊 尔       0.000349      1.41\n",
       "61    牧原股份       0.000222      3.72\n",
       "25    美的集团       0.000199      0.42\n",
       "\n",
       "[200 rows x 3 columns]"
      ]
     },
     "execution_count": 34,
     "metadata": {},
     "output_type": "execute_result"
    },
    {
     "data": {
      "image/png": "[encoded data removed]",
      "text/plain": [
       "<Figure size 432x288 with 1 Axes>"
      ]
     },
     "metadata": {
      "needs_background": "light"
     },
     "output_type": "display_data"
    },
    {
     "data": {
      "image/png": "[encoded data removed]",
      "text/plain": [
       "<Figure size 432x288 with 1 Axes>"
      ]
     },
     "metadata": {
      "needs_background": "light"
     },
     "output_type": "display_data"
    },
    {
     "data": {
      "image/png": "[encoded data removed]",
      "text/plain": [
       "<Figure size 432x288 with 1 Axes>"
      ]
     },
     "metadata": {
      "needs_background": "light"
     },
     "output_type": "display_data"
    }
   ],
   "source": [
    "import matplotlib.pyplot as plt\n",
    "from pandas import Series\n",
    "\n",
    "# 解决中文乱码\n",
    "plt.rcParams['font.sans-serif']=['SimHei'] #用来正常显示中文标签\n",
    "plt.rcParams['axes.unicode_minus']=False #用来正常显示负号\n",
    "\n",
    "# 用matplotlib绘制相关性图像\n",
    "# 量比与涨跌幅散点图\n",
    "df_tushare.plot(x = \"量比\", y= \"今日涨跌幅(%)\", kind=\"scatter\")\n",
    "# 今日主力净流入-净占比与涨跌幅散点图\n",
    "df_tushare.plot(x = \"今日主力净流入-净占比(%)\", y= \"今日涨跌幅(%)\", kind=\"scatter\")\n",
    "\n",
    "# 主力流入占流通市值比与涨跌幅散点图\n",
    "sr_name = df_tushare['名称']\n",
    "sr_increase = df_tushare['今日涨跌幅(%)']\n",
    "sr_volume_percent = df_tushare['今日主力净流入-净额(万元)']/df_tushare['流通市值(万元)']\n",
    "df_volume_percent = pd.DataFrame({'名称':sr_name,'主力流入占流通市值比(%)':sr_volume_percent,'今日涨跌幅(%)':sr_increase})\n",
    "df_volume_percent.plot(x = '主力流入占流通市值比(%)', y= \"今日涨跌幅(%)\", kind=\"scatter\")\n",
    "df_volume_percent_sort = df_volume_percent.sort_values(by='主力流入占流通市值比(%)', ascending =False)\n",
    "df_volume_percent_sort\n"
   ]
  },
  {
   "cell_type": "markdown",
   "metadata": {},
   "source": [
    "### 线性回归分析"
   ]
  },
  {
   "cell_type": "code",
   "execution_count": 35,
   "metadata": {},
   "outputs": [
    {
     "name": "stdout",
     "output_type": "stream",
     "text": [
      "The linear model is: Y = 3.3974 + 244.52X\n"
     ]
    },
    {
     "data": {
      "image/png": "[encoded data removed]",
      "text/plain": [
       "<Figure size 432x288 with 1 Axes>"
      ]
     },
     "metadata": {
      "needs_background": "light"
     },
     "output_type": "display_data"
    },
    {
     "name": "stdout",
     "output_type": "stream",
     "text": [
      "                            OLS Regression Results                            \n",
      "==============================================================================\n",
      "Dep. Variable:                      y   R-squared:                       0.210\n",
      "Model:                            OLS   Adj. R-squared:                  0.206\n",
      "Method:                 Least Squares   F-statistic:                     52.74\n",
      "Date:                Mon, 29 Jun 2020   Prob (F-statistic):           8.51e-12\n",
      "Time:                        17:07:37   Log-Likelihood:                -508.68\n",
      "No. Observations:                 200   AIC:                             1021.\n",
      "Df Residuals:                     198   BIC:                             1028.\n",
      "Df Model:                           1                                         \n",
      "Covariance Type:            nonrobust                                         \n",
      "==============================================================================\n",
      "                 coef    std err          t      P>|t|      [0.025      0.975]\n",
      "------------------------------------------------------------------------------\n",
      "const          3.3974      0.290     11.713      0.000       2.825       3.969\n",
      "x1           244.5221     33.670      7.262      0.000     178.125     310.919\n",
      "==============================================================================\n",
      "Omnibus:                       52.520   Durbin-Watson:                   1.937\n",
      "Prob(Omnibus):                  0.000   Jarque-Bera (JB):              231.335\n",
      "Skew:                          -0.925   Prob(JB):                     5.84e-51\n",
      "Kurtosis:                       7.933   Cond. No.                         154.\n",
      "==============================================================================\n",
      "\n",
      "Warnings:\n",
      "[1] Standard Errors assume that the covariance matrix of the errors is correctly specified.\n"
     ]
    }
   ],
   "source": [
    "from sklearn.linear_model import LinearRegression\n",
    "import statsmodels.api as sm\n",
    "\n",
    "model=LinearRegression()\n",
    "Xi = sr_volume_percent.values.reshape(-1,1)\n",
    "Yi = sr_increase.values.reshape(-1,1)\n",
    "model.fit(Xi,Yi)\n",
    "\n",
    "y_plot = model.predict(Xi)\n",
    "#打印线性方程\n",
    "print(\"The linear model is: Y = {:.5} + {:.5}X\".format(model.intercept_[0], model.coef_[0][0]))\n",
    "##绘图\n",
    "plt.scatter(Xi, Yi, color='red',label=\"样本数据\",linewidth=1)\n",
    "plt.plot(Xi, y_plot, color='green',label=\"拟合直线\",linewidth=2)\n",
    "plt.legend(loc='lower right')\n",
    "plt.show()\n",
    "\n",
    "\n",
    "X2 = sm.add_constant(Xi)\n",
    "est = sm.OLS(Yi, X2)\n",
    "est2 = est.fit()\n",
    "print(est2.summary())"
   ]
  },
  {
   "cell_type": "code",
   "execution_count": null,
   "metadata": {},
   "outputs": [],
   "source": []
  }
 ],
 "metadata": {
  "kernelspec": {
   "display_name": "Python 3",
   "language": "python",
   "name": "python3"
  },
  "language_info": {
   "codemirror_mode": {
    "name": "ipython",
    "version": 3
   },
   "file_extension": ".py",
   "mimetype": "text/x-python",
   "name": "python",
   "nbconvert_exporter": "python",
   "pygments_lexer": "ipython3",
   "version": "3.7.7"
  }
 },
 "nbformat": 4,
 "nbformat_minor": 4
}
